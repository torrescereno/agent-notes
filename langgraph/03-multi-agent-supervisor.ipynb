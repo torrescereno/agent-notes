{
 "cells": [
  {
   "cell_type": "code",
   "execution_count": 1,
   "metadata": {},
   "outputs": [
    {
     "data": {
      "text/plain": [
       "True"
      ]
     },
     "execution_count": 1,
     "metadata": {},
     "output_type": "execute_result"
    }
   ],
   "source": [
    "from dotenv import load_dotenv\n",
    "\n",
    "load_dotenv()\n"
   ]
  },
  {
   "cell_type": "markdown",
   "metadata": {},
   "source": [
    "#### Multi Agente Supervisor"
   ]
  },
  {
   "cell_type": "code",
   "execution_count": 2,
   "metadata": {},
   "outputs": [],
   "source": [
    "import os\n",
    "from typing import Annotated, Literal\n",
    "\n",
    "import requests\n",
    "from langchain_anthropic import ChatAnthropic  # noqa\n",
    "from langchain_community.tools.tavily_search import TavilySearchResults\n",
    "from langchain_core.messages import HumanMessage\n",
    "from langchain_core.tools import tool\n",
    "from typing_extensions import TypedDict\n",
    "\n",
    "from langgraph.graph import END, START, MessagesState, StateGraph\n",
    "from langgraph.prebuilt import create_react_agent\n",
    "from langgraph.types import Command"
   ]
  },
  {
   "cell_type": "markdown",
   "metadata": {},
   "source": [
    "Documentación\n",
    "\n",
    "[ReAct: Synergizing Reasoning and Acting in Language Models](https://react-lm.github.io/)\n"
   ]
  },
  {
   "cell_type": "code",
   "execution_count": 3,
   "metadata": {},
   "outputs": [],
   "source": [
    "@tool\n",
    "def get_weather(city: Annotated[str, \"Ciudad que se quiere consultar\"]):\n",
    "    \"\"\"Tool que obtiene el clima de una ciudad\"\"\"\n",
    "\n",
    "    WEATHER_API_KEY = os.getenv(\"WEATHER_API_KEY\")\n",
    "\n",
    "    resp = requests.get(\n",
    "        f\"https://weather.visualcrossing.com/VisualCrossingWebServices/rest/services/timeline/{city}/today?unitGroup=metric&include=current&key={WEATHER_API_KEY}&contentType=json\"\n",
    "    )\n",
    "\n",
    "    return resp.json()\n",
    "\n",
    "\n",
    "tavily_tool = TavilySearchResults(max_results=3)"
   ]
  },
  {
   "cell_type": "code",
   "execution_count": 4,
   "metadata": {},
   "outputs": [],
   "source": [
    "members = [\"researcher\", \"weather_specialist\"]\n",
    "\n",
    "options = members + [\"FINISH\"]\n",
    "\n",
    "system_prompt = f\"\"\"\n",
    "            Eres un supervisor encargado de gestionar una conversación entre los siguientes workers: {members}. \n",
    "            Dada la siguiente solicitud del usuario, responde indicando qué worker debe actuar a continuación. \n",
    "            Cada worker realizará una tarea y responderá con sus resultados y estado.\n",
    "            Cualquier consulta sobre el clima usa el worker weather_specialist.   \n",
    "            Cuando todos hayan terminado responde con FINISH.  \n",
    "            \"\"\""
   ]
  },
  {
   "cell_type": "code",
   "execution_count": 5,
   "metadata": {},
   "outputs": [],
   "source": [
    "# model = ChatAnthropic(model_name=\"claude-3-haiku-20240307\")\n",
    "model = ChatAnthropic(model=\"claude-3-5-sonnet-latest\")"
   ]
  },
  {
   "cell_type": "code",
   "execution_count": 6,
   "metadata": {},
   "outputs": [],
   "source": [
    "class Router(TypedDict):\n",
    "    \"\"\"Dirige a los workers al siguiente paso. Si no se necesitan workers, se redirige a FINISH.\"\"\"\n",
    "\n",
    "    next: Literal[*options]  # type: ignore\n",
    "\n",
    "\n",
    "class State(MessagesState):\n",
    "    next: str"
   ]
  },
  {
   "cell_type": "code",
   "execution_count": 7,
   "metadata": {},
   "outputs": [],
   "source": [
    "def supervisor_node(state: State) -> Command[Literal[*members, \"__end__\"]]:  # type: ignore\n",
    "    messages = [\n",
    "        {\"role\": \"system\", \"content\": system_prompt},\n",
    "    ] + state[\"messages\"]\n",
    "\n",
    "    response = model.with_structured_output(Router).invoke(messages)\n",
    "\n",
    "    goto = response[\"next\"]\n",
    "\n",
    "    if goto == \"FINISH\":\n",
    "        goto = END\n",
    "\n",
    "    return Command(goto=goto, update={\"next\": goto})\n",
    "\n",
    "\n",
    "# create_react_agent: crea un agente usando la técnica de ReAct prompting\n",
    "research_agent = create_react_agent(model, tools=[tavily_tool])\n",
    "\n",
    "\n",
    "def research_node(state: State) -> Command[Literal[\"supervisor\"]]:\n",
    "    result = research_agent.invoke(state)\n",
    "\n",
    "    return Command(\n",
    "        update={\n",
    "            \"messages\": [\n",
    "                HumanMessage(content=result[\"messages\"][-1].content, name=\"researcher\")\n",
    "            ]\n",
    "        },\n",
    "        goto=\"supervisor\",\n",
    "    )\n",
    "\n",
    "\n",
    "# create_react_agent: crea un agente usando la técnica de ReAct prompting\n",
    "weather_specialist_agent = create_react_agent(model, tools=[get_weather])\n",
    "\n",
    "\n",
    "def weather_specialist_node(state: State) -> Command[Literal[\"supervisor\"]]:\n",
    "    result = weather_specialist_agent.invoke(state)\n",
    "    return Command(\n",
    "        update={\n",
    "            \"messages\": [\n",
    "                HumanMessage(\n",
    "                    content=result[\"messages\"][-1].content, name=\"weather_specialist\"\n",
    "                )\n",
    "            ]\n",
    "        },\n",
    "        goto=\"supervisor\",\n",
    "    )"
   ]
  },
  {
   "cell_type": "code",
   "execution_count": 8,
   "metadata": {},
   "outputs": [],
   "source": [
    "workflow = StateGraph(State)\n",
    "\n",
    "workflow.add_edge(START, \"supervisor\")\n",
    "\n",
    "workflow.add_node(\"supervisor\", supervisor_node)\n",
    "workflow.add_node(\"researcher\", research_node)\n",
    "workflow.add_node(\"weather_specialist\", weather_specialist_node)\n",
    "\n",
    "graph = workflow.compile()"
   ]
  },
  {
   "cell_type": "code",
   "execution_count": 9,
   "metadata": {},
   "outputs": [
    {
     "data": {
      "image/png": "[encoded data removed]",
      "text/plain": [
       "<IPython.core.display.Image object>"
      ]
     },
     "metadata": {},
     "output_type": "display_data"
    }
   ],
   "source": [
    "from IPython.display import Image, display\n",
    "\n",
    "display(Image(graph.get_graph().draw_mermaid_png()))"
   ]
  },
  {
   "cell_type": "markdown",
   "metadata": {},
   "source": [
    "#### Prueba"
   ]
  },
  {
   "cell_type": "code",
   "execution_count": 12,
   "metadata": {},
   "outputs": [
    {
     "name": "stdout",
     "output_type": "stream",
     "text": [
      "{'supervisor': {'next': 'weather_specialist'}}\n",
      "----\n",
      "{'weather_specialist': {'messages': [HumanMessage(content='De acuerdo a los datos obtenidos, en Santiago de Chile la temperatura actual es de 25.4°C con cielo despejado (Clear). La sensación térmica también es de 25.4°C y hay una humedad del 36.8%.\\n\\nLamento informarte que no tengo una herramienta disponible para obtener las noticias actuales de Chile. Para obtener un resumen de las principales noticias, te recomendaría:\\n\\n1. Consultar directamente los principales medios de comunicación chilenos\\n2. Visitar sitios web de noticias oficiales\\n3. Consultar las redes sociales de los principales medios informativos del país\\n\\n¿Te gustaría que te ayude a encontrar algunas fuentes confiables de noticias chilenas?', additional_kwargs={}, response_metadata={}, name='weather_specialist', id='54b1cfa9-4c9f-47af-a794-2278e999c70b')]}}\n",
      "----\n",
      "{'supervisor': {'next': 'researcher'}}\n",
      "----\n",
      "{'researcher': {'messages': [HumanMessage(content='De acuerdo a la información recabada, estas son las principales noticias de hoy en Chile:\\n\\n1. Temperatura en Santiago: Como mencionaste, actualmente hay 25.4°C con cielo despejado, sensación térmica de 25.4°C y humedad del 36.8%.\\n\\n2. Principales noticias del día:\\n- Hay una importante discusión política relacionada con Chile Vamos y el gobierno actual.\\n- Se están llevando a cabo las competencias del Sudamericano de fútbol, con actualizaciones en las tablas de posiciones.\\n- Hay temas relevantes en curso relacionados con:\\n  * Un accidente aéreo\\n  * Trámites de permisos de circulación (relevante para esta época del año)\\n  * Una tragedia ocurrida en Bolivia que afecta a la región\\n  * Temas relacionados con la PGU (Pensión Garantizada Universal)\\n  * Un incidente relacionado con un socavón\\n\\n¿Te gustaría que profundice en alguna de estas noticias en particular para obtener más detalles?', additional_kwargs={}, response_metadata={}, name='researcher', id='6d48f340-b339-4f52-8b9c-b5329a1ea3b8')]}}\n",
      "----\n",
      "{'supervisor': {'next': '__end__'}}\n",
      "----\n"
     ]
    }
   ],
   "source": [
    "for s in graph.stream(\n",
    "    {\n",
    "        \"messages\": [\n",
    "            (\n",
    "                \"user\",\n",
    "                \"Genera un resumen de las principales noticias de hoy en chile y ademas la temperatura actual en santiago de chile (primero busca la temperatura)\",\n",
    "            )\n",
    "        ]\n",
    "    },\n",
    "    {\"recursion_limit\": 25}\n",
    "):\n",
    "    print(s)\n",
    "    print(\"----\")\n"
   ]
  }
 ],
 "metadata": {
  "kernelspec": {
   "display_name": ".venv",
   "language": "python",
   "name": "python3"
  },
  "language_info": {
   "codemirror_mode": {
    "name": "ipython",
    "version": 3
   },
   "file_extension": ".py",
   "mimetype": "text/x-python",
   "name": "python",
   "nbconvert_exporter": "python",
   "pygments_lexer": "ipython3",
   "version": "3.11.9"
  }
 },
 "nbformat": 4,
 "nbformat_minor": 2
}
