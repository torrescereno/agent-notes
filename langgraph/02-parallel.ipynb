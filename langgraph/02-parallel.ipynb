{
 "cells": [
  {
   "cell_type": "code",
   "execution_count": 1,
   "metadata": {},
   "outputs": [
    {
     "data": {
      "text/plain": [
       "True"
      ]
     },
     "execution_count": 1,
     "metadata": {},
     "output_type": "execute_result"
    }
   ],
   "source": [
    "from dotenv import load_dotenv\n",
    "\n",
    "load_dotenv()"
   ]
  },
  {
   "cell_type": "markdown",
   "metadata": {},
   "source": [
    "#### Ejecuciones en paralelo"
   ]
  },
  {
   "cell_type": "code",
   "execution_count": 2,
   "metadata": {},
   "outputs": [],
   "source": [
    "import operator\n",
    "import os\n",
    "from typing import Annotated\n",
    "\n",
    "import requests\n",
    "from langchain_anthropic import ChatAnthropic  # noqa\n",
    "from langchain_ollama import ChatOllama  # noqa\n",
    "from pydantic import BaseModel\n",
    "from typing_extensions import TypedDict\n",
    "\n",
    "from langgraph.graph import END, START, StateGraph\n",
    "from langgraph.types import Send"
   ]
  },
  {
   "cell_type": "code",
   "execution_count": null,
   "metadata": {},
   "outputs": [],
   "source": [
    "cities_prompt = (\n",
    "    \"\"\"Identifica las ciudades y genera una lista separada por coma {cities}.\"\"\"\n",
    ")\n",
    "\n",
    "model_prompt = \"\"\"\n",
    "    Compara lo datos de la temperatura, humedad y viento de las ciudades: \n",
    "    \n",
    "    {weathers}\n",
    "    \n",
    "    y genera un breve resumen de las condiciones climáticas y la vestimenta adecuada para el día.\n",
    "    \"\"\""
   ]
  },
  {
   "cell_type": "code",
   "execution_count": null,
   "metadata": {},
   "outputs": [],
   "source": [
    "class Cities(BaseModel):\n",
    "    cities: list[str]\n",
    "\n",
    "\n",
    "class Weather(BaseModel):\n",
    "    weather: str"
   ]
  },
  {
   "cell_type": "code",
   "execution_count": null,
   "metadata": {},
   "outputs": [],
   "source": [
    "model = ChatAnthropic(model_name=\"claude-3-haiku-20240307\", temperature=0)\n",
    "# model = ChatOllama(model=\"llama3.1:latest\", temperature=0)"
   ]
  },
  {
   "cell_type": "code",
   "execution_count": null,
   "metadata": {},
   "outputs": [],
   "source": [
    "class OverallState(TypedDict):\n",
    "    cities: str\n",
    "    message: str\n",
    "    weathers: Annotated[list, operator.add]\n",
    "\n",
    "\n",
    "class WeathersState(TypedDict):\n",
    "    city: str"
   ]
  },
  {
   "cell_type": "code",
   "execution_count": 3,
   "metadata": {},
   "outputs": [],
   "source": [
    "def get_cities(state: OverallState):\n",
    "    prompt = cities_prompt.format(cities=state[\"cities\"])\n",
    "    response = model.with_structured_output(Cities).invoke(prompt)\n",
    "    return {\"cities\": response.cities}\n",
    "\n",
    "def generate_weather(state: WeathersState):\n",
    "    city = state[\"city\"]\n",
    "    WEATHER_API_KEY = os.getenv(\"WEATHER_API_KEY\")\n",
    "\n",
    "    resp = requests.get(\n",
    "        f\"https://weather.visualcrossing.com/VisualCrossingWebServices/rest/services/timeline/{city}/today?unitGroup=metric&include=current&key={WEATHER_API_KEY}&contentType=json\"\n",
    "    )\n",
    "    data = resp.json()\n",
    "\n",
    "    return {\"weathers\": [data]}\n",
    "\n",
    "def continue_to_action(state: OverallState):\n",
    "    return [Send(\"generate_weather\", {\"city\": c}) for c in state[\"cities\"]]\n",
    "\n",
    "\n",
    "def model_response(state: OverallState):\n",
    "    weathers = state[\"weathers\"]\n",
    "    prompt = model_prompt.format(weathers=weathers)\n",
    "    response = model.invoke(prompt)\n",
    "    \n",
    "    return {\"message\": [response.content]}"
   ]
  },
  {
   "cell_type": "code",
   "execution_count": null,
   "metadata": {},
   "outputs": [],
   "source": [
    "workflow = StateGraph(OverallState)\n",
    "\n",
    "workflow.add_node(\"get_cities\", get_cities)\n",
    "workflow.add_node(\"generate_weather\", generate_weather)\n",
    "workflow.add_node(\"model_response\", model_response)\n",
    "\n",
    "workflow.add_edge(START, \"get_cities\")\n",
    "workflow.add_conditional_edges(\"get_cities\", continue_to_action, [\"generate_weather\"])\n",
    "workflow.add_edge(\"generate_weather\", \"model_response\")\n",
    "workflow.add_edge(\"model_response\", END)\n",
    "\n",
    "graph = workflow.compile()"
   ]
  },
  {
   "cell_type": "code",
   "execution_count": 4,
   "metadata": {},
   "outputs": [
    {
     "data": {
      "image/png": "[encoded data removed]",
      "text/plain": [
       "<IPython.core.display.Image object>"
      ]
     },
     "metadata": {},
     "output_type": "display_data"
    }
   ],
   "source": [
    "from IPython.display import Image, display\n",
    "\n",
    "display(Image(graph.get_graph().draw_mermaid_png()))\n"
   ]
  },
  {
   "cell_type": "markdown",
   "metadata": {},
   "source": [
    "#### Prueba"
   ]
  },
  {
   "cell_type": "code",
   "execution_count": 5,
   "metadata": {},
   "outputs": [
    {
     "name": "stdout",
     "output_type": "stream",
     "text": [
      "{'get_cities': {'cities': ['Santiago de Chile', 'San Francisco', 'Tokyo']}}\n",
      "{'generate_weather': {'weathers': [{'queryCost': 1, 'latitude': 37.7771, 'longitude': -122.42, 'resolvedAddress': 'San Francisco, CA, United States', 'address': 'San Francisco', 'timezone': 'America/Los_Angeles', 'tzoffset': -8.0, 'days': [{'datetime': '2025-01-27', 'datetimeEpoch': 1737964800, 'tempmax': 15.2, 'tempmin': 3.1, 'temp': 9.2, 'feelslikemax': 15.2, 'feelslikemin': 1.8, 'feelslike': 8.9, 'dew': 1.3, 'humidity': 59.4, 'precip': 0.0, 'precipprob': 1.0, 'precipcover': 0.0, 'preciptype': None, 'snow': 0.0, 'snowdepth': 0.0, 'windgust': 13.0, 'windspeed': 15.4, 'winddir': 260.5, 'pressure': 1020.8, 'cloudcover': 1.2, 'visibility': 17.9, 'solarradiation': 156.0, 'solarenergy': 13.5, 'uvindex': 6.0, 'severerisk': 10.0, 'sunrise': '07:17:22', 'sunriseEpoch': 1737991042, 'sunset': '17:28:14', 'sunsetEpoch': 1738027694, 'moonphase': 0.95, 'conditions': 'Clear', 'description': 'Clear conditions throughout the day.', 'icon': 'clear-day', 'stations': ['KSFO', 'KHWD', 'KOAK', 'C5988'], 'source': 'comb'}], 'stations': {'E5830': {'distance': 2595.0, 'latitude': 37.754, 'longitude': -122.421, 'useCount': 0, 'id': 'E5830', 'name': 'EW5830 San Francisco CA US', 'quality': 0, 'contribution': 0.0}, 'KHWD': {'distance': 28981.0, 'latitude': 37.67, 'longitude': -122.12, 'useCount': 0, 'id': 'KHWD', 'name': 'KHWD', 'quality': 100, 'contribution': 0.0}, 'KSFO': {'distance': 18932.0, 'latitude': 37.61, 'longitude': -122.38, 'useCount': 0, 'id': 'KSFO', 'name': 'KSFO', 'quality': 100, 'contribution': 0.0}, 'KOAK': {'distance': 18717.0, 'latitude': 37.72, 'longitude': -122.22, 'useCount': 0, 'id': 'KOAK', 'name': 'KOAK', 'quality': 100, 'contribution': 0.0}, 'C5988': {'distance': 2206.0, 'latitude': 37.76, 'longitude': -122.432, 'useCount': 0, 'id': 'C5988', 'name': 'CW5988 San Francisco CA US', 'quality': 0, 'contribution': 0.0}, 'F4637': {'distance': 802.0, 'latitude': 37.77, 'longitude': -122.423, 'useCount': 0, 'id': 'F4637', 'name': 'FW4637 San Francisco CA US', 'quality': 0, 'contribution': 0.0}}, 'currentConditions': {'datetime': '16:20:00', 'datetimeEpoch': 1738023600, 'temp': 14.4, 'feelslike': 14.4, 'humidity': 36.5, 'dew': -0.3, 'precip': 0.0, 'precipprob': 0.0, 'snow': 0.0, 'snowdepth': 0.0, 'preciptype': None, 'windgust': 18.9, 'windspeed': 6.0, 'winddir': 271.0, 'pressure': 1021.0, 'visibility': 16.0, 'cloudcover': 0.0, 'solarradiation': 272.0, 'solarenergy': 1.0, 'uvindex': 3.0, 'conditions': 'Clear', 'icon': 'clear-day', 'stations': ['E5830', 'KOAK', 'F4637', 'C5988'], 'source': 'obs', 'sunrise': '07:17:22', 'sunriseEpoch': 1737991042, 'sunset': '17:28:14', 'sunsetEpoch': 1738027694, 'moonphase': 0.95}}]}}\n",
      "{'generate_weather': {'weathers': [{'queryCost': 1, 'latitude': 35.6841, 'longitude': 139.809, 'resolvedAddress': 'Tokyo, Japan', 'address': 'Tokyo', 'timezone': 'Asia/Tokyo', 'tzoffset': 9.0, 'days': [{'datetime': '2025-01-28', 'datetimeEpoch': 1737990000, 'tempmax': 11.7, 'tempmin': 5.4, 'temp': 8.5, 'feelslikemax': 11.7, 'feelslikemin': 3.1, 'feelslike': 7.1, 'dew': -2.8, 'humidity': 46.1, 'precip': 0.1, 'precipprob': 16.1, 'precipcover': 4.17, 'preciptype': ['rain'], 'snow': 0.0, 'snowdepth': 0.0, 'windgust': 20.2, 'windspeed': 18.7, 'winddir': 5.3, 'pressure': 1007.3, 'cloudcover': 64.8, 'visibility': 18.2, 'solarradiation': 152.7, 'solarenergy': 13.2, 'uvindex': 6.0, 'severerisk': 10.0, 'sunrise': '06:43:58', 'sunriseEpoch': 1738014238, 'sunset': '17:03:53', 'sunsetEpoch': 1738051433, 'moonphase': 0.96, 'conditions': 'Partially cloudy', 'description': 'Partly cloudy throughout the day.', 'icon': 'partly-cloudy-day', 'stations': ['RJTY', 'RJTI', 'RJTF', 'RJTT', 'RJAA'], 'source': 'comb'}], 'stations': {'RJTY': {'distance': 42129.0, 'latitude': 35.75, 'longitude': 139.35, 'useCount': 0, 'id': 'RJTY', 'name': 'RJTY', 'quality': 48, 'contribution': 0.0}, 'RJTI': {'distance': 7073.0, 'latitude': 35.63, 'longitude': 139.85, 'useCount': 0, 'id': 'RJTI', 'name': 'RJTI', 'quality': 17, 'contribution': 0.0}, 'RJTF': {'distance': 25278.0, 'latitude': 35.67, 'longitude': 139.53, 'useCount': 0, 'id': 'RJTF', 'name': 'RJTF', 'quality': 18, 'contribution': 0.0}, 'F7254': {'distance': 27535.0, 'latitude': 35.57, 'longitude': 139.539, 'useCount': 0, 'id': 'F7254', 'name': 'FW7254 Yokohama JP', 'quality': 0, 'contribution': 0.0}, 'RJTT': {'distance': 16254.0, 'latitude': 35.54, 'longitude': 139.78, 'useCount': 0, 'id': 'RJTT', 'name': 'RJTT', 'quality': 50, 'contribution': 0.0}, 'RJAA': {'distance': 52480.0, 'latitude': 35.77, 'longitude': 140.38, 'useCount': 0, 'id': 'RJAA', 'name': 'RJAA', 'quality': 50, 'contribution': 0.0}}, 'currentConditions': {'datetime': '09:00:00', 'datetimeEpoch': 1738022400, 'temp': 7.1, 'feelslike': 6.0, 'humidity': 46.5, 'dew': -3.6, 'precip': None, 'precipprob': 0.0, 'snow': 0.0, 'snowdepth': 0.0, 'preciptype': None, 'windgust': None, 'windspeed': 6.8, 'winddir': 328.0, 'pressure': 1008.0, 'visibility': 10.0, 'cloudcover': 25.0, 'solarradiation': 272.0, 'solarenergy': 1.0, 'uvindex': 3.0, 'conditions': 'Partially cloudy', 'icon': 'partly-cloudy-day', 'stations': ['F7254', 'RJTI', 'RJTT'], 'source': 'obs', 'sunrise': '06:43:58', 'sunriseEpoch': 1738014238, 'sunset': '17:03:53', 'sunsetEpoch': 1738051433, 'moonphase': 0.96}}]}}\n",
      "{'generate_weather': {'weathers': [{'queryCost': 1, 'latitude': -33.4372, 'longitude': -70.65, 'resolvedAddress': 'Santiago, Región Metropolitana de Santiago, Chile', 'address': 'Santiago de Chile', 'timezone': 'America/Santiago', 'tzoffset': -3.0, 'days': [{'datetime': '2025-01-27', 'datetimeEpoch': 1737946800, 'tempmax': 32.0, 'tempmin': 14.0, 'temp': 23.2, 'feelslikemax': 30.2, 'feelslikemin': 14.0, 'feelslike': 22.7, 'dew': 8.8, 'humidity': 43.2, 'precip': 0.0, 'precipprob': 0.0, 'precipcover': 0.0, 'preciptype': None, 'snow': 0.0, 'snowdepth': 0.0, 'windgust': 23.4, 'windspeed': 33.5, 'winddir': 202.6, 'pressure': 1012.6, 'cloudcover': 0.0, 'visibility': 11.7, 'solarradiation': 370.8, 'solarenergy': 32.1, 'uvindex': 10.0, 'severerisk': 10.0, 'sunrise': '07:00:36', 'sunriseEpoch': 1737972036, 'sunset': '20:49:56', 'sunsetEpoch': 1738021796, 'moonphase': 0.94, 'conditions': 'Clear', 'description': 'Clear conditions throughout the day.', 'icon': 'clear-day', 'stations': ['SCEL'], 'source': 'comb'}], 'stations': {'SCTB': {'distance': 11237.0, 'latitude': -33.45, 'longitude': -70.53, 'useCount': 0, 'id': 'SCTB', 'name': 'SCTB', 'quality': 0, 'contribution': 0.0}, 'SCEL': {'distance': 13656.0, 'latitude': -33.38, 'longitude': -70.78, 'useCount': 0, 'id': 'SCEL', 'name': 'SCEL', 'quality': 50, 'contribution': 0.0}}, 'currentConditions': {'datetime': '21:00:00', 'datetimeEpoch': 1738022400, 'temp': 25.4, 'feelslike': 25.4, 'humidity': 36.8, 'dew': 9.5, 'precip': None, 'precipprob': 0.0, 'snow': 0.0, 'snowdepth': 0.0, 'preciptype': None, 'windgust': None, 'windspeed': 20.5, 'winddir': 216.0, 'pressure': 1011.0, 'visibility': 10.0, 'cloudcover': 0.0, 'solarradiation': 0.0, 'solarenergy': 0.0, 'uvindex': 0.0, 'conditions': 'Clear', 'icon': 'clear-night', 'stations': ['SCEL', 'SCTB'], 'source': 'obs', 'sunrise': '07:00:36', 'sunriseEpoch': 1737972036, 'sunset': '20:49:56', 'sunsetEpoch': 1738021796, 'moonphase': 0.94}}]}}\n",
      "{'model_response': {'message': ['Aquí está el resumen de las condiciones climáticas y la vestimenta adecuada para el día en las tres ciudades:\\n\\nSantiago, Chile:\\n- Temperatura máxima de 32°C y mínima de 14°C, con una temperatura promedio de 23.2°C.\\n- Humedad del 43.2%.\\n- Vientos moderados de hasta 33.5 km/h.\\n- Condiciones climáticas despejadas durante todo el día.\\nVestimenta recomendada: Ropa ligera y fresca, como camisas de manga corta, pantalones cortos y sandalias. Protección solar es importante.\\n\\nSan Francisco, EE. UU.:\\n- Temperatura máxima de 15.2°C y mínima de 3.1°C, con una temperatura promedio de 9.2°C.\\n- Humedad del 59.4%.\\n- Vientos moderados de hasta 15.4 km/h.\\n- Condiciones climáticas despejadas durante todo el día.\\nVestimenta recomendada: Ropa de abrigo, como chaquetas, suéteres y pantalones largos. Se recomienda llevar guantes y gorro.\\n\\nTokio, Japón:\\n- Temperatura máxima de 11.7°C y mínima de 5.4°C, con una temperatura promedio de 8.5°C.\\n- Humedad del 46.1%.\\n- Vientos moderados de hasta 18.7 km/h.\\n- Condiciones climáticas parcialmente nubladas durante todo el día.\\nVestimenta recomendada: Ropa de abrigo, como chaquetas, suéteres y pantalones largos. Se recomienda llevar paraguas o impermeable, ya que hay probabilidad de precipitaciones.']}}\n"
     ]
    }
   ],
   "source": [
    "for s in graph.stream({\n",
    "    \"cities\": \"las ciudades son santiago de chile, san francisco y tokio\"\n",
    "}):\n",
    "    print(s)"
   ]
  }
 ],
 "metadata": {
  "kernelspec": {
   "display_name": ".venv",
   "language": "python",
   "name": "python3"
  },
  "language_info": {
   "codemirror_mode": {
    "name": "ipython",
    "version": 3
   },
   "file_extension": ".py",
   "mimetype": "text/x-python",
   "name": "python",
   "nbconvert_exporter": "python",
   "pygments_lexer": "ipython3",
   "version": "3.11.9"
  }
 },
 "nbformat": 4,
 "nbformat_minor": 2
}
