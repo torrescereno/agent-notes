{
 "cells": [
  {
   "cell_type": "code",
   "execution_count": 13,
   "metadata": {},
   "outputs": [
    {
     "data": {
      "text/plain": [
       "True"
      ]
     },
     "execution_count": 13,
     "metadata": {},
     "output_type": "execute_result"
    }
   ],
   "source": [
    "from dotenv import load_dotenv\n",
    "\n",
    "load_dotenv()"
   ]
  },
  {
   "cell_type": "markdown",
   "metadata": {},
   "source": [
    "#### Human-in-the-loop Revisión de nodos"
   ]
  },
  {
   "cell_type": "code",
   "execution_count": 1,
   "metadata": {},
   "outputs": [],
   "source": [
    "import os\n",
    "import uuid\n",
    "\n",
    "import requests\n",
    "from langchain_anthropic import ChatAnthropic\n",
    "from langchain_core.tools import tool\n",
    "from typing_extensions import Literal\n",
    "\n",
    "from langgraph.checkpoint.memory import MemorySaver\n",
    "from langgraph.graph import END, START, MessagesState, StateGraph\n",
    "from langgraph.types import Command, interrupt"
   ]
  },
  {
   "cell_type": "code",
   "execution_count": 2,
   "metadata": {},
   "outputs": [],
   "source": [
    "@tool\n",
    "def weather_search(city: str):\n",
    "    \"\"\"tool que obtiene el clima de una ciudad\"\"\"\n",
    "\n",
    "    WEATHER_API_KEY = os.getenv(\"WEATHER_API_KEY\")\n",
    "\n",
    "    resp = requests.get(\n",
    "        f\"https://weather.visualcrossing.com/VisualCrossingWebServices/rest/services/timeline/{city}/today?unitGroup=metric&include=current&key={WEATHER_API_KEY}&contentType=json\"\n",
    "    )\n",
    "\n",
    "    return resp.json()"
   ]
  },
  {
   "cell_type": "code",
   "execution_count": 3,
   "metadata": {},
   "outputs": [],
   "source": [
    "model = ChatAnthropic(model_name=\"claude-3-5-sonnet-latest\").bind_tools([\n",
    "    weather_search\n",
    "])"
   ]
  },
  {
   "cell_type": "code",
   "execution_count": 4,
   "metadata": {},
   "outputs": [],
   "source": [
    "class State(MessagesState):\n",
    "    \"\"\"Simple state.\"\"\""
   ]
  },
  {
   "cell_type": "code",
   "execution_count": 5,
   "metadata": {},
   "outputs": [],
   "source": [
    "def call_llm(state):\n",
    "    return {\"messages\": [model.invoke(state[\"messages\"])]}\n",
    "\n",
    "def human_review_node(state) -> Command[Literal[\"call_llm\", \"run_tool\"]]:\n",
    "    last_message = state[\"messages\"][-1]\n",
    "    tool_call = last_message.tool_calls[-1]\n",
    "\n",
    "    human_review = interrupt({\n",
    "        \"question\": \"Es correcto ?\",\n",
    "        \"tool_call\": tool_call,\n",
    "    })\n",
    "\n",
    "    review_action = human_review[\"action\"]\n",
    "    review_data = human_review.get(\"data\")\n",
    "\n",
    "    if review_action == \"continue\":\n",
    "        return Command(goto=\"run_tool\")\n",
    "\n",
    "    elif review_action == \"update\":\n",
    "        updated_message = {\n",
    "            \"role\": \"ai\",\n",
    "            \"content\": last_message.content,\n",
    "            \"tool_calls\": [\n",
    "                {\n",
    "                    \"id\": tool_call[\"id\"],\n",
    "                    \"name\": tool_call[\"name\"],\n",
    "                    \"args\": review_data,\n",
    "                }\n",
    "            ],\n",
    "            \"id\": last_message.id,\n",
    "        }\n",
    "        \n",
    "        return Command(goto=\"run_tool\", update={\"messages\": [updated_message]})\n",
    "\n",
    "    elif review_action == \"feedback\":\n",
    "        # Se de agrega el feedback como ToolMessage\n",
    "        # para preservar el orden correcto en el historial de mensajes\n",
    "        # Los mensajes de IA con llamadas a tools deben ir seguidos de mensajes de llamadas a tools\n",
    "        tool_message = {\n",
    "            \"role\": \"tool\",\n",
    "            \"content\": review_data,\n",
    "            \"name\": tool_call[\"name\"],\n",
    "            \"tool_call_id\": tool_call[\"id\"],\n",
    "        }\n",
    "        return Command(goto=\"call_llm\", update={\"messages\": [tool_message]})\n",
    "\n",
    "    \n",
    "def run_tool(state):\n",
    "    new_messages = []\n",
    "    tools = {\"weather_search\": weather_search}\n",
    "    tool_calls = state[\"messages\"][-1].tool_calls\n",
    "    \n",
    "    for tool_call in tool_calls:\n",
    "        tool = tools[tool_call[\"name\"]]\n",
    "        result = tool.invoke(tool_call[\"args\"])\n",
    "        \n",
    "        new_messages.append({\n",
    "            \"role\": \"tool\",\n",
    "            \"name\": tool_call[\"name\"],\n",
    "            \"content\": result,\n",
    "            \"tool_call_id\": tool_call[\"id\"],\n",
    "        })\n",
    "        \n",
    "    return {\"messages\": new_messages}\n",
    "\n",
    "\n",
    "def route_after_llm(state) -> Literal[\"__end__\", \"human_review_node\"]:\n",
    "    if len(state[\"messages\"][-1].tool_calls) == 0:\n",
    "        return END\n",
    "    else:\n",
    "        return \"human_review_node\""
   ]
  },
  {
   "cell_type": "code",
   "execution_count": 6,
   "metadata": {},
   "outputs": [],
   "source": [
    "builder = StateGraph(State)\n",
    "\n",
    "builder.add_node(call_llm)\n",
    "builder.add_node(run_tool)\n",
    "builder.add_node(human_review_node)\n",
    "\n",
    "builder.add_edge(START, \"call_llm\")\n",
    "builder.add_conditional_edges(\"call_llm\", route_after_llm)\n",
    "builder.add_edge(\"run_tool\", \"call_llm\")\n",
    "\n",
    "memory = MemorySaver()\n",
    "\n",
    "graph = builder.compile(checkpointer=memory)"
   ]
  },
  {
   "cell_type": "code",
   "execution_count": 7,
   "metadata": {},
   "outputs": [
    {
     "data": {
      "image/png": "[encoded data removed]",
      "text/plain": [
       "<IPython.core.display.Image object>"
      ]
     },
     "metadata": {},
     "output_type": "display_data"
    }
   ],
   "source": [
    "from IPython.display import Image, display\n",
    "\n",
    "display(Image(graph.get_graph().draw_mermaid_png()))"
   ]
  },
  {
   "cell_type": "markdown",
   "metadata": {},
   "source": [
    "#### No review"
   ]
  },
  {
   "cell_type": "code",
   "execution_count": 8,
   "metadata": {},
   "outputs": [
    {
     "name": "stdout",
     "output_type": "stream",
     "text": [
      "================================\u001b[1m Human Message \u001b[0m=================================\n",
      "\n",
      "Hola!\n",
      "==================================\u001b[1m Ai Message \u001b[0m==================================\n",
      "\n",
      "¡Hola! ¿En qué puedo ayudarte? \n",
      "\n",
      "Veo que tengo acceso a una herramienta que permite consultar el clima de una ciudad. Si deseas saber el pronóstico del tiempo para alguna ciudad en particular, con gusto puedo ayudarte a consultarlo. ¿Hay alguna ciudad específica de la que quieras conocer el clima?\n"
     ]
    }
   ],
   "source": [
    "initial_input = {\"messages\": [{\"role\": \"user\", \"content\": \"Hola!\"}]}\n",
    "\n",
    "thread = {\"configurable\": {\"thread_id\": \"1\"}}\n",
    "\n",
    "for event in graph.stream(initial_input, thread, stream_mode=\"values\"):\n",
    "    event[\"messages\"][-1].pretty_print()"
   ]
  },
  {
   "cell_type": "markdown",
   "metadata": {},
   "source": [
    "#### Aprobación de tool"
   ]
  },
  {
   "cell_type": "code",
   "execution_count": 9,
   "metadata": {},
   "outputs": [
    {
     "name": "stdout",
     "output_type": "stream",
     "text": [
      "================================\u001b[1m Human Message \u001b[0m=================================\n",
      "\n",
      "Cuál es el clima en santiago de chile ?\n",
      "==================================\u001b[1m Ai Message \u001b[0m==================================\n",
      "\n",
      "[{'text': 'Voy a consultar el clima en Santiago de Chile.', 'type': 'text'}, {'id': 'toolu_01147YY5Nt63LJARWhUFen5Q', 'input': {'city': 'Santiago'}, 'name': 'weather_search', 'type': 'tool_use'}]\n",
      "Tool Calls:\n",
      "  weather_search (toolu_01147YY5Nt63LJARWhUFen5Q)\n",
      " Call ID: toolu_01147YY5Nt63LJARWhUFen5Q\n",
      "  Args:\n",
      "    city: Santiago\n"
     ]
    }
   ],
   "source": [
    "initial_input = {\"messages\": [{\"role\": \"user\", \"content\": \"Cuál es el clima en santiago de chile ?\"}]}\n",
    "\n",
    "\n",
    "thread = {\"configurable\": {\"thread_id\": uuid.uuid1()}}\n",
    "\n",
    "# for event in graph.stream(initial_input, thread, stream_mode=\"updates\"):\n",
    "#     print(event)\n",
    "#     print(\"\\n\")\n",
    "\n",
    "for event in graph.stream(initial_input, thread, stream_mode=\"values\"):\n",
    "    event[\"messages\"][-1].pretty_print()"
   ]
  },
  {
   "cell_type": "code",
   "execution_count": 10,
   "metadata": {},
   "outputs": [
    {
     "name": "stdout",
     "output_type": "stream",
     "text": [
      "Pendiente la ejecución!\n",
      "('human_review_node',)\n"
     ]
    }
   ],
   "source": [
    "print(\"Pendiente la ejecución!\")\n",
    "print(graph.get_state(thread).next)"
   ]
  },
  {
   "cell_type": "code",
   "execution_count": 11,
   "metadata": {},
   "outputs": [
    {
     "name": "stdout",
     "output_type": "stream",
     "text": [
      "==================================\u001b[1m Ai Message \u001b[0m==================================\n",
      "\n",
      "[{'text': 'Voy a consultar el clima en Santiago de Chile.', 'type': 'text'}, {'id': 'toolu_01147YY5Nt63LJARWhUFen5Q', 'input': {'city': 'Santiago'}, 'name': 'weather_search', 'type': 'tool_use'}]\n",
      "Tool Calls:\n",
      "  weather_search (toolu_01147YY5Nt63LJARWhUFen5Q)\n",
      " Call ID: toolu_01147YY5Nt63LJARWhUFen5Q\n",
      "  Args:\n",
      "    city: Santiago\n",
      "=================================\u001b[1m Tool Message \u001b[0m=================================\n",
      "Name: weather_search\n",
      "\n",
      "{'queryCost': 1, 'latitude': -33.4372, 'longitude': -70.65, 'resolvedAddress': 'Santiago, Región Metropolitana de Santiago, República de Chile', 'address': 'Santiago', 'timezone': 'America/Santiago', 'tzoffset': -3.0, 'days': [{'datetime': '2025-01-27', 'datetimeEpoch': 1737946800, 'tempmax': 32.0, 'tempmin': 14.0, 'temp': 23.3, 'feelslikemax': 30.2, 'feelslikemin': 14.0, 'feelslike': 22.7, 'dew': 8.8, 'humidity': 43.1, 'precip': 0.0, 'precipprob': 0.0, 'precipcover': 0.0, 'preciptype': None, 'snow': 0.0, 'snowdepth': 0.0, 'windgust': 23.4, 'windspeed': 33.5, 'winddir': 202.5, 'pressure': 1012.6, 'cloudcover': 0.0, 'visibility': 11.1, 'solarradiation': 370.8, 'solarenergy': 32.1, 'uvindex': 10.0, 'severerisk': 10.0, 'sunrise': '07:00:36', 'sunriseEpoch': 1737972036, 'sunset': '20:49:56', 'sunsetEpoch': 1738021796, 'moonphase': 0.94, 'conditions': 'Clear', 'description': 'Clear conditions throughout the day.', 'icon': 'clear-day', 'stations': ['SCEL'], 'source': 'comb'}], 'stations': {'SCTB': {'distance': 11237.0, 'latitude': -33.45, 'longitude': -70.53, 'useCount': 0, 'id': 'SCTB', 'name': 'SCTB', 'quality': 0, 'contribution': 0.0}, 'SCEL': {'distance': 13656.0, 'latitude': -33.38, 'longitude': -70.78, 'useCount': 0, 'id': 'SCEL', 'name': 'SCEL', 'quality': 50, 'contribution': 0.0}}, 'currentConditions': {'datetime': '22:00:00', 'datetimeEpoch': 1738026000, 'temp': 25.0, 'feelslike': 25.0, 'humidity': 35.7, 'dew': 8.7, 'precip': None, 'precipprob': 0.0, 'snow': 0.0, 'snowdepth': 0.0, 'preciptype': None, 'windgust': None, 'windspeed': 15.1, 'winddir': 200.0, 'pressure': 1012.0, 'visibility': 10.0, 'cloudcover': 0.0, 'solarradiation': 0.0, 'solarenergy': 0.0, 'uvindex': 0.0, 'conditions': 'Clear', 'icon': 'clear-night', 'stations': ['SCEL', 'SCTB'], 'source': 'obs', 'sunrise': '07:00:36', 'sunriseEpoch': 1737972036, 'sunset': '20:49:56', 'sunsetEpoch': 1738021796, 'moonphase': 0.94}}\n",
      "==================================\u001b[1m Ai Message \u001b[0m==================================\n",
      "\n",
      "Según la información obtenida, en Santiago de Chile actualmente:\n",
      "\n",
      "- Temperatura: 25°C\n",
      "- Sensación térmica: 25°C\n",
      "- Humedad: 35.7%\n",
      "- Condiciones: Despejado (Clear)\n",
      "- Velocidad del viento: 15.1 km/h\n",
      "- Visibilidad: 10 km\n",
      "- Cobertura de nubes: 0%\n",
      "\n",
      "Para el día de hoy se espera:\n",
      "- Temperatura máxima: 32°C\n",
      "- Temperatura mínima: 14°C\n",
      "- Condiciones generales: Cielo despejado durante todo el día\n",
      "- Probabilidad de precipitación: 0%\n",
      "\n",
      "El sol salió a las 07:00 y se pondrá a las 20:49.\n"
     ]
    }
   ],
   "source": [
    "for event in graph.stream(\n",
    "    Command(resume={\"action\": \"continue\"}),\n",
    "    thread,\n",
    "    stream_mode=\"values\",\n",
    "):\n",
    "    event[\"messages\"][-1].pretty_print()"
   ]
  },
  {
   "cell_type": "markdown",
   "metadata": {},
   "source": [
    "#### Edit Tool Call"
   ]
  },
  {
   "cell_type": "code",
   "execution_count": 12,
   "metadata": {},
   "outputs": [
    {
     "name": "stdout",
     "output_type": "stream",
     "text": [
      "================================\u001b[1m Human Message \u001b[0m=================================\n",
      "\n",
      "Cuál es el clima en stg ?\n",
      "==================================\u001b[1m Ai Message \u001b[0m==================================\n",
      "\n",
      "[{'text': 'Voy a buscar el clima para Santiago.', 'type': 'text'}, {'id': 'toolu_01SmvNwk1v8Xbt2fv4GL5Duk', 'input': {'city': 'Santiago'}, 'name': 'weather_search', 'type': 'tool_use'}]\n",
      "Tool Calls:\n",
      "  weather_search (toolu_01SmvNwk1v8Xbt2fv4GL5Duk)\n",
      " Call ID: toolu_01SmvNwk1v8Xbt2fv4GL5Duk\n",
      "  Args:\n",
      "    city: Santiago\n"
     ]
    }
   ],
   "source": [
    "initial_input = {\"messages\": [{\"role\": \"user\", \"content\": \"Cuál es el clima en stg ?\"}]}\n",
    "\n",
    "thread = {\"configurable\": {\"thread_id\": uuid.uuid4()}}\n",
    "\n",
    "for event in graph.stream(initial_input, thread, stream_mode=\"values\"):\n",
    "    event[\"messages\"][-1].pretty_print()"
   ]
  },
  {
   "cell_type": "code",
   "execution_count": 13,
   "metadata": {},
   "outputs": [
    {
     "name": "stdout",
     "output_type": "stream",
     "text": [
      "Pendiente la ejecución!\n",
      "('human_review_node',)\n"
     ]
    }
   ],
   "source": [
    "print(\"Pendiente la ejecución!\")\n",
    "print(graph.get_state(thread).next)"
   ]
  },
  {
   "cell_type": "code",
   "execution_count": 14,
   "metadata": {},
   "outputs": [
    {
     "name": "stdout",
     "output_type": "stream",
     "text": [
      "==================================\u001b[1m Ai Message \u001b[0m==================================\n",
      "\n",
      "[{'text': 'Voy a buscar el clima para Santiago.', 'type': 'text'}, {'id': 'toolu_01SmvNwk1v8Xbt2fv4GL5Duk', 'input': {'city': 'Santiago'}, 'name': 'weather_search', 'type': 'tool_use'}]\n",
      "Tool Calls:\n",
      "  weather_search (toolu_01SmvNwk1v8Xbt2fv4GL5Duk)\n",
      " Call ID: toolu_01SmvNwk1v8Xbt2fv4GL5Duk\n",
      "  Args:\n",
      "    city: Santiago\n",
      "==================================\u001b[1m Ai Message \u001b[0m==================================\n",
      "\n",
      "[{'text': 'Voy a buscar el clima para Santiago.', 'type': 'text'}, {'id': 'toolu_01SmvNwk1v8Xbt2fv4GL5Duk', 'input': {'city': 'Santiago'}, 'name': 'weather_search', 'type': 'tool_use'}]\n",
      "Tool Calls:\n",
      "  weather_search (toolu_01SmvNwk1v8Xbt2fv4GL5Duk)\n",
      " Call ID: toolu_01SmvNwk1v8Xbt2fv4GL5Duk\n",
      "  Args:\n",
      "    city: Santiago de chile\n",
      "=================================\u001b[1m Tool Message \u001b[0m=================================\n",
      "Name: weather_search\n",
      "\n",
      "{'queryCost': 1, 'latitude': -33.4372, 'longitude': -70.65, 'resolvedAddress': 'Santiago, Región Metropolitana de Santiago, Chile', 'address': 'Santiago de chile', 'timezone': 'America/Santiago', 'tzoffset': -3.0, 'days': [{'datetime': '2025-01-27', 'datetimeEpoch': 1737946800, 'tempmax': 32.0, 'tempmin': 14.0, 'temp': 23.3, 'feelslikemax': 30.2, 'feelslikemin': 14.0, 'feelslike': 22.7, 'dew': 8.8, 'humidity': 43.1, 'precip': 0.0, 'precipprob': 0.0, 'precipcover': 0.0, 'preciptype': None, 'snow': 0.0, 'snowdepth': 0.0, 'windgust': 23.4, 'windspeed': 33.5, 'winddir': 202.5, 'pressure': 1012.6, 'cloudcover': 0.0, 'visibility': 11.1, 'solarradiation': 370.8, 'solarenergy': 32.1, 'uvindex': 10.0, 'severerisk': 10.0, 'sunrise': '07:00:36', 'sunriseEpoch': 1737972036, 'sunset': '20:49:56', 'sunsetEpoch': 1738021796, 'moonphase': 0.94, 'conditions': 'Clear', 'description': 'Clear conditions throughout the day.', 'icon': 'clear-day', 'stations': ['SCEL'], 'source': 'comb'}], 'stations': {'SCTB': {'distance': 11237.0, 'latitude': -33.45, 'longitude': -70.53, 'useCount': 0, 'id': 'SCTB', 'name': 'SCTB', 'quality': 0, 'contribution': 0.0}, 'SCEL': {'distance': 13656.0, 'latitude': -33.38, 'longitude': -70.78, 'useCount': 0, 'id': 'SCEL', 'name': 'SCEL', 'quality': 50, 'contribution': 0.0}}, 'currentConditions': {'datetime': '22:00:00', 'datetimeEpoch': 1738026000, 'temp': 25.0, 'feelslike': 25.0, 'humidity': 35.7, 'dew': 8.7, 'precip': None, 'precipprob': 0.0, 'snow': 0.0, 'snowdepth': 0.0, 'preciptype': None, 'windgust': None, 'windspeed': 15.1, 'winddir': 200.0, 'pressure': 1012.0, 'visibility': 10.0, 'cloudcover': 0.0, 'solarradiation': 0.0, 'solarenergy': 0.0, 'uvindex': 0.0, 'conditions': 'Clear', 'icon': 'clear-night', 'stations': ['SCEL', 'SCTB'], 'source': 'obs', 'sunrise': '07:00:36', 'sunriseEpoch': 1737972036, 'sunset': '20:49:56', 'sunsetEpoch': 1738021796, 'moonphase': 0.94}}\n",
      "==================================\u001b[1m Ai Message \u001b[0m==================================\n",
      "\n",
      "Basado en los resultados, aquí está el clima actual en Santiago:\n",
      "\n",
      "- Temperatura actual: 25°C\n",
      "- Sensación térmica: 25°C\n",
      "- Humedad: 35.7%\n",
      "- Condiciones: Despejado\n",
      "- Velocidad del viento: 15.1 km/h\n",
      "- Visibilidad: 10 km\n",
      "\n",
      "Para el día de hoy:\n",
      "- Temperatura máxima: 32°C\n",
      "- Temperatura mínima: 14°C\n",
      "- Condiciones generales: Despejado durante todo el día\n",
      "- Probabilidad de precipitaciones: 0%\n"
     ]
    }
   ],
   "source": [
    "for event in graph.stream(\n",
    "    Command(resume={\"action\": \"update\", \"data\": {\"city\": \"Santiago de chile\"}}),\n",
    "    thread,\n",
    "    stream_mode=\"values\",\n",
    "):\n",
    "    event[\"messages\"][-1].pretty_print()"
   ]
  },
  {
   "cell_type": "markdown",
   "metadata": {},
   "source": [
    "#### Dar feedback a la llamada de una tool"
   ]
  },
  {
   "cell_type": "code",
   "execution_count": 15,
   "metadata": {},
   "outputs": [],
   "source": [
    "thread = {\"configurable\": {\"thread_id\": \"12\"}}"
   ]
  },
  {
   "cell_type": "code",
   "execution_count": 16,
   "metadata": {},
   "outputs": [
    {
     "name": "stdout",
     "output_type": "stream",
     "text": [
      "================================\u001b[1m Human Message \u001b[0m=================================\n",
      "\n",
      "Cuál es el clima en Santiago ?\n",
      "==================================\u001b[1m Ai Message \u001b[0m==================================\n",
      "\n",
      "[{'text': 'Voy a consultar el clima en Santiago.', 'type': 'text'}, {'id': 'toolu_01RbWoiRyxYpFowKytG5ZKtk', 'input': {'city': 'Santiago'}, 'name': 'weather_search', 'type': 'tool_use'}]\n",
      "Tool Calls:\n",
      "  weather_search (toolu_01RbWoiRyxYpFowKytG5ZKtk)\n",
      " Call ID: toolu_01RbWoiRyxYpFowKytG5ZKtk\n",
      "  Args:\n",
      "    city: Santiago\n"
     ]
    }
   ],
   "source": [
    "initial_input = {\"messages\": [{\"role\": \"user\", \"content\": \"Cuál es el clima en Santiago?\"}]}\n",
    "\n",
    "for event in graph.stream(initial_input, thread, stream_mode=\"values\"):\n",
    "    event[\"messages\"][-1].pretty_print()\n"
   ]
  },
  {
   "cell_type": "code",
   "execution_count": 17,
   "metadata": {},
   "outputs": [
    {
     "name": "stdout",
     "output_type": "stream",
     "text": [
      "Ejecución pendiente!\n",
      "('human_review_node',)\n"
     ]
    }
   ],
   "source": [
    "print(\"Ejecución pendiente!\")\n",
    "print(graph.get_state(thread).next)"
   ]
  },
  {
   "cell_type": "code",
   "execution_count": 18,
   "metadata": {},
   "outputs": [
    {
     "name": "stdout",
     "output_type": "stream",
     "text": [
      "==================================\u001b[1m Ai Message \u001b[0m==================================\n",
      "\n",
      "[{'text': 'Voy a consultar el clima en Santiago.', 'type': 'text'}, {'id': 'toolu_01RbWoiRyxYpFowKytG5ZKtk', 'input': {'city': 'Santiago'}, 'name': 'weather_search', 'type': 'tool_use'}]\n",
      "Tool Calls:\n",
      "  weather_search (toolu_01RbWoiRyxYpFowKytG5ZKtk)\n",
      " Call ID: toolu_01RbWoiRyxYpFowKytG5ZKtk\n",
      "  Args:\n",
      "    city: Santiago\n",
      "=================================\u001b[1m Tool Message \u001b[0m=================================\n",
      "Name: weather_search\n",
      "\n",
      "El usuario requiere un cambios: el formato de la locación es <city, country>\n",
      "==================================\u001b[1m Ai Message \u001b[0m==================================\n",
      "\n",
      "Disculpe, necesito que especifique el país ya que hay varias ciudades llamadas Santiago. Por ejemplo, podría ser Santiago de Chile o Santiago de Cuba. ¿Podría indicarme específicamente qué Santiago desea consultar?\n"
     ]
    }
   ],
   "source": [
    "for event in graph.stream(\n",
    "    Command(\n",
    "        resume={\n",
    "            \"action\": \"feedback\",\n",
    "            \"data\": \"El usuario requiere un cambios: el formato de la locación es <city, country>\",\n",
    "        }\n",
    "    ),\n",
    "    thread,\n",
    "    stream_mode=\"values\",\n",
    "):\n",
    "    event[\"messages\"][-1].pretty_print()"
   ]
  },
  {
   "cell_type": "code",
   "execution_count": 19,
   "metadata": {},
   "outputs": [
    {
     "name": "stdout",
     "output_type": "stream",
     "text": [
      "Pending Executions!\n",
      "()\n"
     ]
    }
   ],
   "source": [
    "print(\"Pending Executions!\")\n",
    "print(graph.get_state(thread).next)"
   ]
  },
  {
   "cell_type": "code",
   "execution_count": 21,
   "metadata": {},
   "outputs": [
    {
     "name": "stdout",
     "output_type": "stream",
     "text": [
      "================================\u001b[1m Human Message \u001b[0m=================================\n",
      "\n",
      "chile\n",
      "==================================\u001b[1m Ai Message \u001b[0m==================================\n",
      "\n",
      "[{'text': 'Voy a consultar el clima en Santiago de Chile.', 'type': 'text'}, {'id': 'toolu_01TAFh6cXyquMSgyUKuvyf3h', 'input': {'city': 'Santiago, Chile'}, 'name': 'weather_search', 'type': 'tool_use'}]\n",
      "Tool Calls:\n",
      "  weather_search (toolu_01TAFh6cXyquMSgyUKuvyf3h)\n",
      " Call ID: toolu_01TAFh6cXyquMSgyUKuvyf3h\n",
      "  Args:\n",
      "    city: Santiago, Chile\n"
     ]
    }
   ],
   "source": [
    "initial_input = {\"messages\": [{\"role\": \"user\", \"content\": \"chile\"}]}\n",
    "\n",
    "for event in graph.stream(initial_input, thread, stream_mode=\"values\"):\n",
    "    event[\"messages\"][-1].pretty_print()"
   ]
  },
  {
   "cell_type": "code",
   "execution_count": 22,
   "metadata": {},
   "outputs": [
    {
     "name": "stdout",
     "output_type": "stream",
     "text": [
      "==================================\u001b[1m Ai Message \u001b[0m==================================\n",
      "\n",
      "[{'text': 'Voy a consultar el clima en Santiago de Chile.', 'type': 'text'}, {'id': 'toolu_01TAFh6cXyquMSgyUKuvyf3h', 'input': {'city': 'Santiago, Chile'}, 'name': 'weather_search', 'type': 'tool_use'}]\n",
      "Tool Calls:\n",
      "  weather_search (toolu_01TAFh6cXyquMSgyUKuvyf3h)\n",
      " Call ID: toolu_01TAFh6cXyquMSgyUKuvyf3h\n",
      "  Args:\n",
      "    city: Santiago, Chile\n",
      "=================================\u001b[1m Tool Message \u001b[0m=================================\n",
      "Name: weather_search\n",
      "\n",
      "{'queryCost': 1, 'latitude': -33.4372, 'longitude': -70.65, 'resolvedAddress': 'Santiago, Región Metropolitana de Santiago, República de Chile', 'address': 'Santiago, Chile', 'timezone': 'America/Santiago', 'tzoffset': -3.0, 'days': [{'datetime': '2025-01-27', 'datetimeEpoch': 1737946800, 'tempmax': 32.0, 'tempmin': 14.0, 'temp': 23.3, 'feelslikemax': 30.2, 'feelslikemin': 14.0, 'feelslike': 22.7, 'dew': 8.8, 'humidity': 43.1, 'precip': 0.0, 'precipprob': 0.0, 'precipcover': 0.0, 'preciptype': None, 'snow': 0.0, 'snowdepth': 0.0, 'windgust': 23.4, 'windspeed': 33.5, 'winddir': 202.5, 'pressure': 1012.6, 'cloudcover': 0.0, 'visibility': 11.1, 'solarradiation': 370.8, 'solarenergy': 32.1, 'uvindex': 10.0, 'severerisk': 10.0, 'sunrise': '07:00:36', 'sunriseEpoch': 1737972036, 'sunset': '20:49:56', 'sunsetEpoch': 1738021796, 'moonphase': 0.94, 'conditions': 'Clear', 'description': 'Clear conditions throughout the day.', 'icon': 'clear-day', 'stations': ['SCEL'], 'source': 'comb'}], 'stations': {'SCTB': {'distance': 11237.0, 'latitude': -33.45, 'longitude': -70.53, 'useCount': 0, 'id': 'SCTB', 'name': 'SCTB', 'quality': 0, 'contribution': 0.0}, 'SCEL': {'distance': 13656.0, 'latitude': -33.38, 'longitude': -70.78, 'useCount': 0, 'id': 'SCEL', 'name': 'SCEL', 'quality': 50, 'contribution': 0.0}}, 'currentConditions': {'datetime': '22:00:00', 'datetimeEpoch': 1738026000, 'temp': 25.0, 'feelslike': 25.0, 'humidity': 35.7, 'dew': 8.7, 'precip': None, 'precipprob': 0.0, 'snow': 0.0, 'snowdepth': 0.0, 'preciptype': None, 'windgust': None, 'windspeed': 15.1, 'winddir': 200.0, 'pressure': 1012.0, 'visibility': 10.0, 'cloudcover': 0.0, 'solarradiation': 0.0, 'solarenergy': 0.0, 'uvindex': 0.0, 'conditions': 'Clear', 'icon': 'clear-night', 'stations': ['SCEL', 'SCTB'], 'source': 'obs', 'sunrise': '07:00:36', 'sunriseEpoch': 1737972036, 'sunset': '20:49:56', 'sunsetEpoch': 1738021796, 'moonphase': 0.94}}\n",
      "==================================\u001b[1m Ai Message \u001b[0m==================================\n",
      "\n",
      "Según los datos actuales para Santiago de Chile:\n",
      "\n",
      "- Temperatura actual: 25°C\n",
      "- Sensación térmica: 25°C\n",
      "- Humedad: 35.7%\n",
      "- Condiciones: Despejado\n",
      "- Velocidad del viento: 15.1 km/h\n",
      "- Visibilidad: 10 km\n",
      "\n",
      "Para el día de hoy:\n",
      "- Temperatura máxima: 32°C\n",
      "- Temperatura mínima: 14°C\n",
      "- Probabilidad de precipitación: 0%\n",
      "- Cielo despejado durante todo el día\n",
      "- Índice UV: 10 (muy alto)\n",
      "\n",
      "El amanecer fue a las 07:00 y el atardecer será a las 20:49.\n"
     ]
    }
   ],
   "source": [
    "for event in graph.stream(\n",
    "    Command(resume={\"action\": \"continue\"}), thread, stream_mode=\"values\"\n",
    "):\n",
    "    event[\"messages\"][-1].pretty_print()\n"
   ]
  },
  {
   "cell_type": "code",
   "execution_count": null,
   "metadata": {},
   "outputs": [],
   "source": []
  }
 ],
 "metadata": {
  "kernelspec": {
   "display_name": ".venv",
   "language": "python",
   "name": "python3"
  },
  "language_info": {
   "codemirror_mode": {
    "name": "ipython",
    "version": 3
   },
   "file_extension": ".py",
   "mimetype": "text/x-python",
   "name": "python",
   "nbconvert_exporter": "python",
   "pygments_lexer": "ipython3",
   "version": "3.11.9"
  }
 },
 "nbformat": 4,
 "nbformat_minor": 2
}
