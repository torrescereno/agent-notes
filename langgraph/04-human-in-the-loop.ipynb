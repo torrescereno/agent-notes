{
 "cells": [
  {
   "cell_type": "code",
   "execution_count": 1,
   "metadata": {},
   "outputs": [
    {
     "data": {
      "text/plain": [
       "True"
      ]
     },
     "execution_count": 1,
     "metadata": {},
     "output_type": "execute_result"
    }
   ],
   "source": [
    "from dotenv import load_dotenv\n",
    "\n",
    "load_dotenv()"
   ]
  },
  {
   "cell_type": "markdown",
   "metadata": {},
   "source": [
    "#### Human-in-the-loop"
   ]
  },
  {
   "cell_type": "code",
   "execution_count": 2,
   "metadata": {},
   "outputs": [],
   "source": [
    "import uuid\n",
    "\n",
    "from langchain_anthropic import ChatAnthropic\n",
    "from langchain_community.tools.tavily_search import TavilySearchResults\n",
    "from langchain_core.messages import HumanMessage, SystemMessage\n",
    "from pydantic import BaseModel\n",
    "\n",
    "from langgraph.checkpoint.memory import MemorySaver\n",
    "from langgraph.graph import END, START, MessagesState, StateGraph\n",
    "from langgraph.prebuilt import ToolNode\n",
    "from langgraph.types import Command, interrupt"
   ]
  },
  {
   "cell_type": "code",
   "execution_count": 3,
   "metadata": {},
   "outputs": [],
   "source": [
    "tavily_tool = TavilySearchResults(max_results=5)\n",
    "\n",
    "tools = [tavily_tool]\n",
    "tool_node = ToolNode(tools)"
   ]
  },
  {
   "cell_type": "code",
   "execution_count": 4,
   "metadata": {},
   "outputs": [],
   "source": [
    "llm_init = ChatAnthropic(model=\"claude-3-haiku-20240307\")\n",
    "llm_final = ChatAnthropic(model=\"claude-3-5-sonnet-latest\")"
   ]
  },
  {
   "cell_type": "code",
   "execution_count": 5,
   "metadata": {},
   "outputs": [],
   "source": [
    "class AskHuman(BaseModel):\n",
    "    \"\"\"Pregunta al usuario\"\"\"\n",
    "    \n",
    "    question: str"
   ]
  },
  {
   "cell_type": "code",
   "execution_count": 6,
   "metadata": {},
   "outputs": [],
   "source": [
    "llm_init = llm_init.bind_tools(tools + [AskHuman])"
   ]
  },
  {
   "cell_type": "code",
   "execution_count": 7,
   "metadata": {},
   "outputs": [],
   "source": [
    "def call_model(state: MessagesState):\n",
    "    messages = state[\"messages\"]\n",
    "    response = llm_init.invoke(messages)\n",
    "\n",
    "    return {\"messages\": [response]}\n",
    "\n",
    "def call_final_model(state: MessagesState):\n",
    "    messages = state[\"messages\"]\n",
    "    last_ai_message = messages[-1]\n",
    "\n",
    "\n",
    "    response = llm_final.invoke([\n",
    "        SystemMessage(\n",
    "            \"\"\"\n",
    "            Genera un breve resumen de la información proporcionada en base al tema que se esta tratando.\n",
    "            \"\"\"\n",
    "        ),\n",
    "        HumanMessage(last_ai_message.content),\n",
    "    ])\n",
    "\n",
    "    response.id = last_ai_message.id\n",
    "\n",
    "    return {\"messages\": [response]}\n",
    "\n",
    "def ask_human(state: MessagesState):\n",
    "    tool_call_id = state[\"messages\"][-1].tool_calls[0][\"id\"]\n",
    "    content = interrupt(\"Sobre que tema quieres saber ?\")\n",
    "    tool_message = [{\"tool_call_id\": tool_call_id, \"type\": \"tool\", \"content\": content}]\n",
    "    return {\"messages\": tool_message}\n",
    "\n",
    "def should_continue(state: MessagesState):\n",
    "    messages = state[\"messages\"]\n",
    "    last_message = messages[-1]\n",
    "\n",
    "    if not last_message.tool_calls:\n",
    "        return \"end\"\n",
    "    elif last_message.tool_calls[0][\"name\"] == \"AskHuman\":\n",
    "        return \"ask_human\"\n",
    "    else:\n",
    "        return \"tools\""
   ]
  },
  {
   "cell_type": "code",
   "execution_count": 8,
   "metadata": {},
   "outputs": [],
   "source": [
    "workflow = StateGraph(MessagesState)\n",
    "\n",
    "workflow.add_node(\"agent\", call_model)\n",
    "workflow.add_node(\"tools\", tool_node)\n",
    "workflow.add_node(\"final\", call_final_model)\n",
    "workflow.add_node(\"ask_human\", ask_human)\n",
    "\n",
    "workflow.add_edge(START, \"agent\")\n",
    "\n",
    "workflow.add_conditional_edges(\n",
    "    \"agent\",\n",
    "    should_continue,\n",
    "    {\n",
    "        \"tools\": \"tools\",\n",
    "        \"ask_human\": \"ask_human\",\n",
    "        \"end\": \"final\",\n",
    "    },\n",
    ")\n",
    "\n",
    "workflow.add_edge(\"tools\", \"agent\")\n",
    "workflow.add_edge(\"ask_human\", \"agent\")\n",
    "workflow.add_edge(\"final\", END)\n",
    "\n",
    "\n",
    "memory = MemorySaver()\n",
    "\n",
    "\n",
    "app = workflow.compile(checkpointer=memory)"
   ]
  },
  {
   "cell_type": "code",
   "execution_count": 9,
   "metadata": {},
   "outputs": [
    {
     "data": {
      "image/png": "[encoded data removed]",
      "text/plain": [
       "<IPython.core.display.Image object>"
      ]
     },
     "metadata": {},
     "output_type": "display_data"
    }
   ],
   "source": [
    "from IPython.display import Image, display\n",
    "\n",
    "display(Image(app.get_graph().draw_mermaid_png()))"
   ]
  },
  {
   "cell_type": "markdown",
   "metadata": {},
   "source": [
    "#### Prueba"
   ]
  },
  {
   "cell_type": "code",
   "execution_count": 10,
   "metadata": {},
   "outputs": [],
   "source": [
    "thread = {\"configurable\": {\"thread_id\": uuid.uuid4()}}"
   ]
  },
  {
   "cell_type": "code",
   "execution_count": 11,
   "metadata": {},
   "outputs": [
    {
     "name": "stdout",
     "output_type": "stream",
     "text": [
      "================================\u001b[1m Human Message \u001b[0m=================================\n",
      "\n",
      "Pregunta al usuario qué quiere buscar, luego usa las herramientas que tengas para realizar la búsqueda\n",
      "==================================\u001b[1m Ai Message \u001b[0m==================================\n",
      "\n",
      "[{'id': 'toolu_01D4HcgAzwH6L1wmBd9JYKfb', 'input': {'question': '¿Qué quieres buscar?'}, 'name': 'AskHuman', 'type': 'tool_use'}]\n",
      "Tool Calls:\n",
      "  AskHuman (toolu_01D4HcgAzwH6L1wmBd9JYKfb)\n",
      " Call ID: toolu_01D4HcgAzwH6L1wmBd9JYKfb\n",
      "  Args:\n",
      "    question: ¿Qué quieres buscar?\n"
     ]
    }
   ],
   "source": [
    "input_message = HumanMessage(content=\"Pregunta al usuario qué quiere buscar, luego usa las herramientas que tengas para realizar la búsqueda\")\n",
    "\n",
    "for event in app.stream({\"messages\": [input_message]}, thread, stream_mode=\"values\"):\n",
    "    event[\"messages\"][-1].pretty_print()"
   ]
  },
  {
   "cell_type": "code",
   "execution_count": 12,
   "metadata": {},
   "outputs": [
    {
     "data": {
      "text/plain": [
       "('ask_human',)"
      ]
     },
     "execution_count": 12,
     "metadata": {},
     "output_type": "execute_result"
    }
   ],
   "source": [
    "app.get_state(thread).next"
   ]
  },
  {
   "cell_type": "code",
   "execution_count": 13,
   "metadata": {},
   "outputs": [
    {
     "name": "stdout",
     "output_type": "stream",
     "text": [
      "==================================\u001b[1m Ai Message \u001b[0m==================================\n",
      "\n",
      "[{'id': 'toolu_01D4HcgAzwH6L1wmBd9JYKfb', 'input': {'question': '¿Qué quieres buscar?'}, 'name': 'AskHuman', 'type': 'tool_use'}]\n",
      "Tool Calls:\n",
      "  AskHuman (toolu_01D4HcgAzwH6L1wmBd9JYKfb)\n",
      " Call ID: toolu_01D4HcgAzwH6L1wmBd9JYKfb\n",
      "  Args:\n",
      "    question: ¿Qué quieres buscar?\n",
      "=================================\u001b[1m Tool Message \u001b[0m=================================\n",
      "\n",
      "Investiga sobre IA generativa\n",
      "==================================\u001b[1m Ai Message \u001b[0m==================================\n",
      "\n",
      "[{'id': 'toolu_017ACg1rXswSZJDNmof5WmtU', 'input': {'query': 'IA generativa'}, 'name': 'tavily_search_results_json', 'type': 'tool_use'}]\n",
      "Tool Calls:\n",
      "  tavily_search_results_json (toolu_017ACg1rXswSZJDNmof5WmtU)\n",
      " Call ID: toolu_017ACg1rXswSZJDNmof5WmtU\n",
      "  Args:\n",
      "    query: IA generativa\n",
      "=================================\u001b[1m Tool Message \u001b[0m=================================\n",
      "Name: tavily_search_results_json\n",
      "\n",
      "[{\"url\": \"https://www.ibm.com/es-es/topics/generative-ai\", \"content\": \"Generación, evaluación, más ajusteLos desarrolladores y los usuarios evalúan continuamente los outputs de sus aplicaciones de IA generativa y ajustan aún más el modelo (incluso una vez a la semana) para aumentar su precisión o relevancia (en cambio, el propio modelo fundacional se actualiza con mucha menos frecuencia, quizá cada año o cada 18 meses). Dado que puede generar contenidos y respuestas bajo demanda, la IA generativa tiene el potencial de acelerar o automatizar las tareas que requieren mucha mano de obra, recortar costes y liberar tiempo de los empleados para tareas de mayor valor. En aplicaciones como los sistemas de recomendación y la creación de contenidos, la IA generativa puede analizar las preferencias y el historial del usuario y generar contenidos personalizados en tiempo real, lo que conduce a una experiencia de usuario más adaptada y atractiva.\"}, {\"url\": \"https://www.ibm.com/br-pt/topics/generative-ai\", \"content\": \"Além de permitir um treinamento mais rápido, os transformadores se destacam no processamento de linguagem natural (PNL) e na Natural Language Understanding (NLU), e podem gerar sequências mais longas de dados — por exemplo, não apenas respostas a perguntas, mas poemas, artigos ou documentos — com maior precisão e qualidade superior a outros modelos de IA generativa profunda. Muitos modelos de IA generativa são modelos de \\\"caixa-preta\\\", o que significa que pode ser desafiador ou impossível entender seus processos de tomada de decisões; até mesmo os engenheiros ou cientistas de dados que criam o algoritmo subjacente podem entender ou explicar o que exatamente está acontecendo dentro dele e como chega a um resultado específico.\"}, {\"url\": \"https://en.wikipedia.org/wiki/Generative_artificial_intelligence\", \"content\": \"For example, UniPi from Google Research uses prompts like \\\"pick up blue bowl\\\" or \\\"wipe plate with yellow sponge\\\" to control movements of a robot arm.[44] Multimodal \\\"vision-language-action\\\" models such as Google's RT-2 can perform rudimentary reasoning in response to user prompts and visual input, such as picking up a toy dinosaur when given the prompt pick up the extinct animal at a table filled with toy animals and other objects.[45]\\nPlanning[edit]\\nThe terms generative AI planning or generative planning were used in the 1980s and 1990s to refer to AI planning systems, especially computer-aided process planning, used to generate sequences of actions to reach a specified goal.[46][47]\\nGenerative AI planning systems used symbolic AI methods such as state space search and constraint satisfaction and were a \\\"relatively mature\\\" technology by the early 1990s. Since its founding, researchers in the field have raised philosophical and ethical arguments about the nature of the human mind and the consequences of creating artificial beings with human-like intelligence; these issues have previously been explored by myth, fiction and philosophy since antiquity.[18] These concepts of automated art date back at least to the automata of ancient Greek civilization, where inventors such as Daedalus and Hero of Alexandria were described as having designed machines capable of writing text, generating sounds, and playing music.[19][20]\\nThe tradition of creative automatons has flourished throughout history, such as Maillardet's automaton, created in the early 1800s.[21]\\nArtificial Intelligence is an idea that has been captivating society since the mid-20th century. In a July 2023 briefing of the United Nations Security Council, Secretary-General António Guterres stated \\\"Generative AI has enormous potential for good and evil at scale\\\", that AI may \\\"turbocharge global development\\\" and contribute between $10 and $15 trillion to the global economy by 2030, but that its malicious use \\\"could cause horrific levels of death and destruction, widespread trauma, and deep psychological damage on an unimaginable scale\\\".[63]\\nJob losses[edit]\\nFrom the early days of the development of AI, there have been arguments put forward by ELIZA creator Joseph Weizenbaum and others about whether tasks that can be done by computers actually should be done by them, given the difference between computers and humans, and between quantitative calculations and qualitative, value-based judgements.[65] The editor-in-chief was fired shortly thereafter amid the controversy.[82]\\nRegulation[edit]\\nIn the European Union, the proposed Artificial Intelligence Act includes requirements to disclose copyrighted material used to train generative AI systems, and to label any AI-generated output as such.[83]\\nIn the United States, a group of companies including OpenAI, Alphabet, and Meta signed a voluntary agreement with the White House in July 2023 to watermark AI-generated content.[84]\\n These include large language model chatbots such as ChatGPT, Copilot, Bard, and LLaMA, and text-to-image artificial intelligence art systems such as Stable Diffusion, Midjourney, and DALL-E.[7][8][9]\\nGenerative AI has uses across a wide range of industries, including art, writing, script writing, software development, product design, healthcare, finance, gaming, marketing, and fashion.[10][11][12]\\nInvestment in generative AI surged during the early 2020s, with large companies such as Microsoft, Google, and Baidu as well as numerous smaller firms developing generative AI models.[2][13][14]\"}, {\"url\": \"https://www.cloudskillsboost.google/course_templates/536\", \"content\": \"<p>This is an introductory level microlearning course aimed at explaining what Generative AI is, how it is used, and how it differs from traditional machine learning methods. It also covers Google Tools to help you develop your own Gen AI apps.</p>\"}, {\"url\": \"https://aws.amazon.com/what-is/generative-ai/\", \"content\": \"Financial services\\nFinancial services companies can harness the power of generative AI to serve their customers better while reducing costs:\\nHealthcare and life sciences\\nOne of the most promising use cases of generative AI is to accelerate drug discovery and research. What are the common applications of generative AI?\\nWith generative AI, you can take advantage of machine learning for your business more quickly and apply it to a broader set of use cases. Choose from a range of generative AI technologies that support all types of organizations in every stage of generative AI adoption and maturity:\\nGet started with generative AI on AWS by creating an account today.\\n Media and entertainment\\nFrom animations and scripts to full-length movies, generative AI models can produce novel content at a fraction of the cost and time of traditional production.\\n Here are other ways you can use generative AI in the industry:\\nTelecommunication\\nEarly use cases of generative AI in telecommunication are focused on reinventing the customer experience.\"}]\n",
      "==================================\u001b[1m Ai Message \u001b[0m==================================\n",
      "\n",
      "Según la información encontrada, la IA generativa se refiere a un tipo de inteligencia artificial que puede generar contenido original, como texto, imágenes, audio y video, a partir de datos de entrenamiento y prompts o instrucciones del usuario. Algunas de las aplicaciones y beneficios clave de la IA generativa incluyen:\n",
      "\n",
      "- Acelerar y automatizar tareas que requieren mucha mano de obra, como la creación de contenido\n",
      "- Generar contenido personalizado y adaptado a las preferencias del usuario en tiempo real\n",
      "- Mejorar la eficiencia y la experiencia del usuario en diversos sectores como finanzas, salud, entretenimiento y telecomunicaciones\n",
      "- Contribuir al desarrollo económico generando un impacto estimado de $10-15 billones a la economía global para 2030\n",
      "\n",
      "Sin embargo, también se menciona que el uso malicioso de la IA generativa podría tener consecuencias negativas devastadoras a gran escala. Por lo tanto, es importante desarrollar e implementar esta tecnología de manera responsable y con las debidas regulaciones.\n",
      "\n",
      "¿Necesitas más información sobre algún aspecto en particular de la IA generativa?\n",
      "==================================\u001b[1m Ai Message \u001b[0m==================================\n",
      "\n",
      "Resumen:\n",
      "La IA generativa es una tecnología capaz de crear contenido original en diversos formatos (texto, imágenes, audio y video) basándose en datos de entrenamiento y las instrucciones del usuario. Sus principales beneficios incluyen la automatización de tareas, generación de contenido personalizado y mejoras en la eficiencia en diversos sectores, con un potencial impacto económico global de $10-15 billones para 2030. Sin embargo, es crucial considerar los riesgos de su uso indebido y la necesidad de una implementación responsable con regulaciones adecuadas.\n"
     ]
    }
   ],
   "source": [
    "for event in app.stream(\n",
    "    Command(resume=\"Investiga sobre IA generativa\"), thread, stream_mode=\"values\"\n",
    "):\n",
    "    event[\"messages\"][-1].pretty_print()\n"
   ]
  },
  {
   "cell_type": "code",
   "execution_count": null,
   "metadata": {},
   "outputs": [],
   "source": []
  }
 ],
 "metadata": {
  "kernelspec": {
   "display_name": ".venv",
   "language": "python",
   "name": "python3"
  },
  "language_info": {
   "codemirror_mode": {
    "name": "ipython",
    "version": 3
   },
   "file_extension": ".py",
   "mimetype": "text/x-python",
   "name": "python",
   "nbconvert_exporter": "python",
   "pygments_lexer": "ipython3",
   "version": "3.11.9"
  }
 },
 "nbformat": 4,
 "nbformat_minor": 2
}
