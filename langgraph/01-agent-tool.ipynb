{
 "cells": [
  {
   "cell_type": "code",
   "execution_count": 1,
   "metadata": {},
   "outputs": [
    {
     "data": {
      "text/plain": [
       "True"
      ]
     },
     "execution_count": 1,
     "metadata": {},
     "output_type": "execute_result"
    }
   ],
   "source": [
    "from dotenv import load_dotenv\n",
    "\n",
    "load_dotenv()"
   ]
  },
  {
   "cell_type": "markdown",
   "metadata": {},
   "source": [
    "#### Agentes - Herramientas"
   ]
  },
  {
   "cell_type": "code",
   "execution_count": 2,
   "metadata": {},
   "outputs": [],
   "source": [
    "import os\n",
    "from typing import Literal\n",
    "\n",
    "import requests\n",
    "from langchain_anthropic import ChatAnthropic  # noqa\n",
    "from langchain_core.messages import HumanMessage, SystemMessage\n",
    "from langchain_core.tools import tool\n",
    "from langchain_ollama import ChatOllama  # noqa\n",
    "\n",
    "from langgraph.graph import END, START, StateGraph\n",
    "from langgraph.graph.message import MessagesState\n",
    "from langgraph.prebuilt import ToolNode"
   ]
  },
  {
   "cell_type": "code",
   "execution_count": 3,
   "metadata": {},
   "outputs": [],
   "source": [
    "@tool(name_or_callable=\"get_weather\")\n",
    "def get_weather(city: str):\n",
    "    \"\"\"tool que obtiene el clima de una ciudad\"\"\"\n",
    "\n",
    "    WEATHER_API_KEY = os.getenv(\"WEATHER_API_KEY\")\n",
    "\n",
    "    resp = requests.get(\n",
    "        f\"https://weather.visualcrossing.com/VisualCrossingWebServices/rest/services/timeline/{city}/today?unitGroup=metric&include=current&key={WEATHER_API_KEY}&contentType=json\"\n",
    "    )\n",
    "\n",
    "    return resp.json()\n",
    "\n",
    "\n",
    "tools = [get_weather]"
   ]
  },
  {
   "cell_type": "code",
   "execution_count": 4,
   "metadata": {},
   "outputs": [],
   "source": [
    "model = ChatAnthropic(model_name=\"claude-3-haiku-20240307\", temperature=0)\n",
    "final_model = ChatAnthropic(model_name=\"claude-3-haiku-20240307\", temperature=0)\n",
    "\n",
    "# model = ChatOllama(model=\"llama3.1\", temperature=0)\n",
    "# final_model = ChatOllama(model=\"llama3.1\", temperature=0)"
   ]
  },
  {
   "cell_type": "code",
   "execution_count": 5,
   "metadata": {},
   "outputs": [],
   "source": [
    "model = model.bind_tools(tools)\n",
    "final_model = final_model.with_config(tags=[\"final_node\"])\n",
    "\n",
    "tool_node = ToolNode(tools=tools)"
   ]
  },
  {
   "cell_type": "code",
   "execution_count": 6,
   "metadata": {},
   "outputs": [],
   "source": [
    "def call_model(state: MessagesState):\n",
    "    messages = state[\"messages\"]\n",
    "\n",
    "    # system_prompt = \"\"\n",
    "    # messages = [{\"role\": \"system\", \"content\": system_prompt}] + state[\"messages\"]\n",
    "\n",
    "    response = model.invoke(messages)\n",
    "\n",
    "    return {\"messages\": [response]}\n",
    "\n",
    "\n",
    "def should_continue(state: MessagesState) -> Literal[\"tools\", \"final\"]:\n",
    "    messages = state[\"messages\"]\n",
    "    last_message = messages[-1]\n",
    "\n",
    "    if last_message.tool_calls:\n",
    "        return \"tools\"\n",
    "\n",
    "    return \"final\"\n",
    "\n",
    "\n",
    "def call_final_model(state: MessagesState):\n",
    "    messages = state[\"messages\"]\n",
    "    last_ai_message = messages[-1]\n",
    "\n",
    "    response = final_model.invoke([\n",
    "        SystemMessage(\n",
    "            \"\"\"\n",
    "            Eres un asistente experto en clima que responde preguntas sobre el estado del tiempo de manera breve y precisa. Cada vez que informes sobre el clima, proporciona los siguientes detalles:\n",
    "\n",
    "            1- Condiciones climáticas actuales (soleado, lluvioso, nublado, etc.).\n",
    "            2- Temperatura en grados Celsius.\n",
    "            3- Una sugerencia de vestimenta adecuada para el día (considerando las condiciones climáticas y la temperatura).\n",
    "            \n",
    "            Tu respuesta debe ser clara, corta y práctica.\n",
    "            \n",
    "            La respuesta debe ser en el siguiente formato:\n",
    "            \n",
    "            \"El clima en [ciudad] es [condiciones climáticas]. La temperatura es de [temperatura] grados Celsius. Te recomiendo que te pongas [ropa recomendada].\"\n",
    "            \"\"\"\n",
    "        ),\n",
    "        HumanMessage(last_ai_message.content),\n",
    "    ])\n",
    "\n",
    "    response.id = last_ai_message.id\n",
    "\n",
    "    return {\"messages\": [response]}"
   ]
  },
  {
   "cell_type": "code",
   "execution_count": 7,
   "metadata": {},
   "outputs": [],
   "source": [
    "workflow = StateGraph(MessagesState)\n",
    "\n",
    "workflow.add_node(\"agent\", call_model)\n",
    "workflow.add_node(\"tools\", tool_node)\n",
    "workflow.add_node(\"final\", call_final_model)\n",
    "\n",
    "workflow.add_edge(START, \"agent\")\n",
    "\n",
    "workflow.add_conditional_edges(\n",
    "    \"agent\",\n",
    "    should_continue,\n",
    ")\n",
    "\n",
    "workflow.add_edge(\"tools\", \"agent\")\n",
    "workflow.add_edge(\"final\", END)\n",
    "\n",
    "graph = workflow.compile()"
   ]
  },
  {
   "cell_type": "code",
   "execution_count": 8,
   "metadata": {},
   "outputs": [
    {
     "data": {
      "image/png": "[encoded data removed]",
      "text/plain": [
       "<IPython.core.display.Image object>"
      ]
     },
     "metadata": {},
     "output_type": "display_data"
    }
   ],
   "source": [
    "from IPython.display import Image, display\n",
    "\n",
    "display(Image(graph.get_graph(xray=True).draw_mermaid_png()))"
   ]
  },
  {
   "cell_type": "markdown",
   "metadata": {},
   "source": [
    "#### Prueba"
   ]
  },
  {
   "cell_type": "code",
   "execution_count": 9,
   "metadata": {},
   "outputs": [
    {
     "name": "stdout",
     "output_type": "stream",
     "text": [
      "================================\u001b[1m Human Message \u001b[0m=================================\n",
      "\n",
      "santiago de chile\n",
      "==================================\u001b[1m Ai Message \u001b[0m==================================\n",
      "\n",
      "[{'id': 'toolu_01Dp59kFac6AWoQuCirDTX7A', 'input': {'city': 'santiago de chile'}, 'name': 'get_weather', 'type': 'tool_use'}]\n",
      "Tool Calls:\n",
      "  get_weather (toolu_01Dp59kFac6AWoQuCirDTX7A)\n",
      " Call ID: toolu_01Dp59kFac6AWoQuCirDTX7A\n",
      "  Args:\n",
      "    city: santiago de chile\n",
      "=================================\u001b[1m Tool Message \u001b[0m=================================\n",
      "Name: get_weather\n",
      "\n",
      "{\"queryCost\": 1, \"latitude\": -33.4372, \"longitude\": -70.65, \"resolvedAddress\": \"Santiago, Región Metropolitana de Santiago, Chile\", \"address\": \"santiago de chile\", \"timezone\": \"America/Santiago\", \"tzoffset\": -3.0, \"days\": [{\"datetime\": \"2025-01-27\", \"datetimeEpoch\": 1737946800, \"tempmax\": 33.4, \"tempmin\": 18.6, \"temp\": 24.5, \"feelslikemax\": 31.0, \"feelslikemin\": 18.6, \"feelslike\": 23.8, \"dew\": 6.3, \"humidity\": 34.3, \"precip\": 0.0, \"precipprob\": 0.0, \"precipcover\": 0.0, \"preciptype\": null, \"snow\": 0.0, \"snowdepth\": 0.0, \"windgust\": 22.3, \"windspeed\": 21.6, \"winddir\": 239.2, \"pressure\": 1010.5, \"cloudcover\": 0.0, \"visibility\": 24.1, \"solarradiation\": 370.5, \"solarenergy\": 32.1, \"uvindex\": 10.0, \"severerisk\": 10.0, \"sunrise\": \"07:00:36\", \"sunriseEpoch\": 1737972036, \"sunset\": \"20:49:56\", \"sunsetEpoch\": 1738021796, \"moonphase\": 0.94, \"conditions\": \"Clear\", \"description\": \"Clear conditions throughout the day.\", \"icon\": \"clear-day\", \"stations\": null, \"source\": \"fcst\"}], \"stations\": {\"SCTB\": {\"distance\": 11237.0, \"latitude\": -33.45, \"longitude\": -70.53, \"useCount\": 0, \"id\": \"SCTB\", \"name\": \"SCTB\", \"quality\": 0, \"contribution\": 0.0}, \"SCEL\": {\"distance\": 13656.0, \"latitude\": -33.38, \"longitude\": -70.78, \"useCount\": 0, \"id\": \"SCEL\", \"name\": \"SCEL\", \"quality\": 50, \"contribution\": 0.0}}, \"currentConditions\": {\"datetime\": \"00:00:00\", \"datetimeEpoch\": 1737946800, \"temp\": 22.3, \"feelslike\": 22.3, \"humidity\": 43.0, \"dew\": 9.1, \"precip\": null, \"precipprob\": 0.0, \"snow\": 0.0, \"snowdepth\": 0.0, \"preciptype\": null, \"windgust\": null, \"windspeed\": 17.1, \"winddir\": 192.0, \"pressure\": 1015.0, \"visibility\": 10.0, \"cloudcover\": 0.0, \"solarradiation\": 0.0, \"solarenergy\": 0.0, \"uvindex\": 0.0, \"conditions\": \"Clear\", \"icon\": \"clear-night\", \"stations\": [\"SCEL\", \"SCTB\"], \"source\": \"obs\", \"sunrise\": \"07:00:36\", \"sunriseEpoch\": 1737972036, \"sunset\": \"20:49:56\", \"sunsetEpoch\": 1738021796, \"moonphase\": 0.94}}\n",
      "==================================\u001b[1m Ai Message \u001b[0m==================================\n",
      "\n",
      "The weather forecast for Santiago de Chile shows that it will be a clear and sunny day, with a maximum temperature of 33.4°C and a minimum of 18.6°C. The humidity will be around 34.3% and there is no precipitation expected. The wind speeds will be moderate, reaching up to 22.3 km/h. Overall, it seems like a pleasant and warm day in Santiago de Chile.\n",
      "==================================\u001b[1m Ai Message \u001b[0m==================================\n",
      "\n",
      "El clima en Santiago de Chile es soleado. La temperatura es de 33.4 grados Celsius. Te recomiendo que uses ropa ligera y fresca, como camisetas, shorts y sandalias.\n"
     ]
    }
   ],
   "source": [
    "for chunk in graph.stream(\n",
    "    {\"messages\": [(\"human\", \"santiago de chile\")]},\n",
    "    stream_mode=\"values\",\n",
    "):\n",
    "    chunk[\"messages\"][-1].pretty_print()"
   ]
  },
  {
   "cell_type": "code",
   "execution_count": null,
   "metadata": {},
   "outputs": [],
   "source": []
  }
 ],
 "metadata": {
  "kernelspec": {
   "display_name": ".venv",
   "language": "python",
   "name": "python3"
  },
  "language_info": {
   "codemirror_mode": {
    "name": "ipython",
    "version": 3
   },
   "file_extension": ".py",
   "mimetype": "text/x-python",
   "name": "python",
   "nbconvert_exporter": "python",
   "pygments_lexer": "ipython3",
   "version": "3.11.9"
  }
 },
 "nbformat": 4,
 "nbformat_minor": 2
}
