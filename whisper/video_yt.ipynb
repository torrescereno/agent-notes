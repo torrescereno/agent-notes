{
 "cells": [
  {
   "cell_type": "code",
   "execution_count": 20,
   "id": "29b13220",
   "metadata": {},
   "outputs": [],
   "source": [
    "from pytubefix import YouTube\n",
    "from pytubefix.cli import on_progress\n",
    "\n",
    "import whisper\n",
    "import torch"
   ]
  },
  {
   "cell_type": "code",
   "execution_count": 21,
   "id": "577416b2",
   "metadata": {},
   "outputs": [
    {
     "data": {
      "text/plain": [
       "True"
      ]
     },
     "execution_count": 21,
     "metadata": {},
     "output_type": "execute_result"
    }
   ],
   "source": [
    "torch.cuda.is_available()"
   ]
  },
  {
   "cell_type": "code",
   "execution_count": 22,
   "id": "0dfbc3d1",
   "metadata": {},
   "outputs": [],
   "source": [
    "def download_yt(url, path='.'):\n",
    "    yt = YouTube(url, on_progress_callback=on_progress)\n",
    "    print(yt.title)\n",
    "\n",
    "    ys = yt.streams.get_audio_only()\n",
    "    ys.download(output_path=path, filename=\"audio.mp4\")"
   ]
  },
  {
   "cell_type": "code",
   "execution_count": 23,
   "id": "e97a9c59",
   "metadata": {},
   "outputs": [
    {
     "name": "stdout",
     "output_type": "stream",
     "text": [
      "Rick Astley - Never Gonna Give You Up (Official Video) (4K Remaster)\n",
      " ↳ |████████████████████████████████████████████| 100.0%\r"
     ]
    }
   ],
   "source": [
    "download_yt('https://www.youtube.com/watch?v=dQw4w9WgXcQ', path='.')"
   ]
  },
  {
   "cell_type": "code",
   "execution_count": 28,
   "id": "a2cbaebd",
   "metadata": {},
   "outputs": [],
   "source": [
    "def transcibe_audio(path: str = \"audio.mp4\"):\n",
    "    device = \"cuda\" if torch.cuda.is_available() else \"cpu\"\n",
    "    print(f\"Using device: {device}\")\n",
    "    \n",
    "    model = whisper.load_model(\"medium\", device=device)\n",
    "    result = model.transcribe(path)\n",
    "    \n",
    "    return result['text']"
   ]
  },
  {
   "cell_type": "code",
   "execution_count": 29,
   "id": "ac68a345",
   "metadata": {},
   "outputs": [
    {
     "name": "stdout",
     "output_type": "stream",
     "text": [
      "Using device: cuda\n"
     ]
    }
   ],
   "source": [
    "transciption = transcibe_audio()"
   ]
  },
  {
   "cell_type": "code",
   "execution_count": 30,
   "id": "60916d0b",
   "metadata": {},
   "outputs": [],
   "source": [
    "with open('transcription.txt', 'w') as f:\n",
    "    f.write(transciption)"
   ]
  }
 ],
 "metadata": {
  "kernelspec": {
   "display_name": "agent-notes",
   "language": "python",
   "name": "python3"
  },
  "language_info": {
   "codemirror_mode": {
    "name": "ipython",
    "version": 3
   },
   "file_extension": ".py",
   "mimetype": "text/x-python",
   "name": "python",
   "nbconvert_exporter": "python",
   "pygments_lexer": "ipython3",
   "version": "3.13.3"
  }
 },
 "nbformat": 4,
 "nbformat_minor": 5
}
